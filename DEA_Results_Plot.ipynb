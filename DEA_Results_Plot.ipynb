{
 "cells": [
  {
   "cell_type": "code",
   "execution_count": 97,
   "metadata": {},
   "outputs": [],
   "source": [
    "#Load libraries\n",
    "library(tidyverse)\n",
    "library(reshape)\n",
    "library(grid)"
   ]
  },
  {
   "cell_type": "code",
   "execution_count": 88,
   "metadata": {},
   "outputs": [],
   "source": [
    "df <- read.csv(\"scoresDEA.csv\")"
   ]
  },
  {
   "cell_type": "code",
   "execution_count": 89,
   "metadata": {},
   "outputs": [
    {
     "name": "stderr",
     "output_type": "stream",
     "text": [
      "Using Efficiency.range, Country as id variables\n"
     ]
    }
   ],
   "source": [
    "df2 <- melt(df)"
   ]
  },
  {
   "cell_type": "code",
   "execution_count": 90,
   "metadata": {},
   "outputs": [
    {
     "data": {
      "text/html": [
       "<table>\n",
       "<thead><tr><th scope=col>Efficiency.range</th><th scope=col>Country</th><th scope=col>variable</th><th scope=col>value</th></tr></thead>\n",
       "<tbody>\n",
       "\t<tr><td><span style=white-space:pre-wrap>0    &lt;= E &lt; 0.1</span></td><td>Germany                                                      </td><td>NumberProjects                                               </td><td> 2                                                           </td></tr>\n",
       "\t<tr><td>0.1 &lt;= E &lt; 0.2 </td><td>Germany              </td><td>NumberProjects       </td><td>16                   </td></tr>\n",
       "\t<tr><td>0.2 &lt;= E &lt; 0.3 </td><td>Germany              </td><td>NumberProjects       </td><td>13                   </td></tr>\n",
       "\t<tr><td>0.3 &lt;= E &lt; 0.4 </td><td>Germany              </td><td>NumberProjects       </td><td>12                   </td></tr>\n",
       "\t<tr><td>0.4 &lt;= E &lt; 0.5 </td><td>Germany              </td><td>NumberProjects       </td><td> 8                   </td></tr>\n",
       "\t<tr><td>0.5 &lt;= E &lt; 0.6 </td><td>Germany              </td><td>NumberProjects       </td><td> 7                   </td></tr>\n",
       "</tbody>\n",
       "</table>\n"
      ],
      "text/latex": [
       "\\begin{tabular}{r|llll}\n",
       " Efficiency.range & Country & variable & value\\\\\n",
       "\\hline\n",
       "\t 0    <= E < 0.1 & Germany         & NumberProjects  &  2             \\\\\n",
       "\t 0.1 <= E < 0.2  & Germany         & NumberProjects  & 16             \\\\\n",
       "\t 0.2 <= E < 0.3  & Germany         & NumberProjects  & 13             \\\\\n",
       "\t 0.3 <= E < 0.4  & Germany         & NumberProjects  & 12             \\\\\n",
       "\t 0.4 <= E < 0.5  & Germany         & NumberProjects  &  8             \\\\\n",
       "\t 0.5 <= E < 0.6  & Germany         & NumberProjects  &  7             \\\\\n",
       "\\end{tabular}\n"
      ],
      "text/markdown": [
       "\n",
       "Efficiency.range | Country | variable | value | \n",
       "|---|---|---|---|---|---|\n",
       "| 0    <= E < 0.1 | Germany         | NumberProjects  |  2              | \n",
       "| 0.1 <= E < 0.2  | Germany         | NumberProjects  | 16              | \n",
       "| 0.2 <= E < 0.3  | Germany         | NumberProjects  | 13              | \n",
       "| 0.3 <= E < 0.4  | Germany         | NumberProjects  | 12              | \n",
       "| 0.4 <= E < 0.5  | Germany         | NumberProjects  |  8              | \n",
       "| 0.5 <= E < 0.6  | Germany         | NumberProjects  |  7              | \n",
       "\n",
       "\n"
      ],
      "text/plain": [
       "  Efficiency.range Country variable       value\n",
       "1 0    <= E < 0.1  Germany NumberProjects  2   \n",
       "2 0.1 <= E < 0.2   Germany NumberProjects 16   \n",
       "3 0.2 <= E < 0.3   Germany NumberProjects 13   \n",
       "4 0.3 <= E < 0.4   Germany NumberProjects 12   \n",
       "5 0.4 <= E < 0.5   Germany NumberProjects  8   \n",
       "6 0.5 <= E < 0.6   Germany NumberProjects  7   "
      ]
     },
     "metadata": {},
     "output_type": "display_data"
    }
   ],
   "source": [
    "head(df2)"
   ]
  },
  {
   "cell_type": "code",
   "execution_count": 111,
   "metadata": {},
   "outputs": [],
   "source": [
    "# grob <- grobTree(textGrob(\"Scatter plot\\nhello\\nhello\", x=0.2,  y=0.95, hjust=0,\n",
    "#   gp=gpar(col=\"black\", fontsize=10)))"
   ]
  },
  {
   "cell_type": "code",
   "execution_count": 125,
   "metadata": {},
   "outputs": [
    {
     "data": {},
     "metadata": {},
     "output_type": "display_data"
    },
    {
     "data": {
      "image/png": "[encoded data removed]",
      "text/plain": [
       "plot without title"
      ]
     },
     "metadata": {},
     "output_type": "display_data"
    }
   ],
   "source": [
    "ggplot(data=df2, aes(x=Efficiency.range, y=value, fill=Country)) +\n",
    "    theme_bw(base_size=10) +\n",
    "    theme(axis.text.x = element_text(size=6,angle=90, vjust=0.4, hjust=1), legend.position =\"bottom\") +\n",
    "    labs(x=\"Efficiency Range\", y=\"Number of Projects / Percentage\") +\n",
    "    geom_bar(stat=\"identity\", position=position_dodge()) +\n",
    "    facet_wrap(~variable, scales = \"free\")\n",
    "#     annotation_custom(grob)\n",
    "#     annotate(\"text\", x = 4, y = 25, label = \"Some text\")"
   ]
  }
 ],
 "metadata": {
  "kernelspec": {
   "display_name": "R",
   "language": "R",
   "name": "ir"
  },
  "language_info": {
   "codemirror_mode": "r",
   "file_extension": ".r",
   "mimetype": "text/x-r-source",
   "name": "R",
   "pygments_lexer": "r",
   "version": "3.4.3"
  }
 },
 "nbformat": 4,
 "nbformat_minor": 2
}
